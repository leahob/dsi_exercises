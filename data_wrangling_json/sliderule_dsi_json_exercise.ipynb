{
 "cells": [
  {
   "cell_type": "markdown",
   "metadata": {},
   "source": [
    "# JSON examples and exercise\n",
    "****\n",
    "+ get familiar with packages for dealing with JSON\n",
    "+ study examples with JSON strings and files \n",
    "+ work on exercise to be completed and submitted \n",
    "****\n",
    "+ reference: http://pandas.pydata.org/pandas-docs/stable/io.html#io-json-reader\n",
    "+ data source: http://jsonstudio.com/resources/\n",
    "****"
   ]
  },
  {
   "cell_type": "code",
   "execution_count": 1,
   "metadata": {
    "collapsed": true
   },
   "outputs": [],
   "source": [
    "import pandas as pd"
   ]
  },
  {
   "cell_type": "markdown",
   "metadata": {},
   "source": [
    "## imports for Python, Pandas"
   ]
  },
  {
   "cell_type": "code",
   "execution_count": 2,
   "metadata": {
    "collapsed": true
   },
   "outputs": [],
   "source": [
    "import json\n",
    "from pandas.io.json import json_normalize"
   ]
  },
  {
   "cell_type": "markdown",
   "metadata": {},
   "source": [
    "## JSON example, with string\n",
    "\n",
    "+ demonstrates creation of normalized dataframes (tables) from nested json string\n",
    "+ source: http://pandas.pydata.org/pandas-docs/stable/io.html#normalization"
   ]
  },
  {
   "cell_type": "code",
   "execution_count": 3,
   "metadata": {
    "collapsed": true
   },
   "outputs": [],
   "source": [
    "# define json string\n",
    "data = [{'state': 'Florida', \n",
    "         'shortname': 'FL',\n",
    "         'info': {'governor': 'Rick Scott'},\n",
    "         'counties': [{'name': 'Dade', 'population': 12345},\n",
    "                      {'name': 'Broward', 'population': 40000},\n",
    "                      {'name': 'Palm Beach', 'population': 60000}]},\n",
    "        {'state': 'Ohio',\n",
    "         'shortname': 'OH',\n",
    "         'info': {'governor': 'John Kasich'},\n",
    "         'counties': [{'name': 'Summit', 'population': 1234},\n",
    "                      {'name': 'Cuyahoga', 'population': 1337}]}]"
   ]
  },
  {
   "cell_type": "code",
   "execution_count": 4,
   "metadata": {
    "collapsed": false
   },
   "outputs": [
    {
     "data": {
      "text/html": [
       "<div>\n",
       "<table border=\"1\" class=\"dataframe\">\n",
       "  <thead>\n",
       "    <tr style=\"text-align: right;\">\n",
       "      <th></th>\n",
       "      <th>name</th>\n",
       "      <th>population</th>\n",
       "    </tr>\n",
       "  </thead>\n",
       "  <tbody>\n",
       "    <tr>\n",
       "      <th>0</th>\n",
       "      <td>Dade</td>\n",
       "      <td>12345</td>\n",
       "    </tr>\n",
       "    <tr>\n",
       "      <th>1</th>\n",
       "      <td>Broward</td>\n",
       "      <td>40000</td>\n",
       "    </tr>\n",
       "    <tr>\n",
       "      <th>2</th>\n",
       "      <td>Palm Beach</td>\n",
       "      <td>60000</td>\n",
       "    </tr>\n",
       "    <tr>\n",
       "      <th>3</th>\n",
       "      <td>Summit</td>\n",
       "      <td>1234</td>\n",
       "    </tr>\n",
       "    <tr>\n",
       "      <th>4</th>\n",
       "      <td>Cuyahoga</td>\n",
       "      <td>1337</td>\n",
       "    </tr>\n",
       "  </tbody>\n",
       "</table>\n",
       "</div>"
      ],
      "text/plain": [
       "         name  population\n",
       "0        Dade       12345\n",
       "1     Broward       40000\n",
       "2  Palm Beach       60000\n",
       "3      Summit        1234\n",
       "4    Cuyahoga        1337"
      ]
     },
     "execution_count": 4,
     "metadata": {},
     "output_type": "execute_result"
    }
   ],
   "source": [
    "# use normalization to create tables from nested element\n",
    "json_normalize(data, 'counties')"
   ]
  },
  {
   "cell_type": "code",
   "execution_count": 5,
   "metadata": {
    "collapsed": false
   },
   "outputs": [
    {
     "data": {
      "text/html": [
       "<div>\n",
       "<table border=\"1\" class=\"dataframe\">\n",
       "  <thead>\n",
       "    <tr style=\"text-align: right;\">\n",
       "      <th></th>\n",
       "      <th>name</th>\n",
       "      <th>population</th>\n",
       "      <th>info.governor</th>\n",
       "      <th>state</th>\n",
       "      <th>shortname</th>\n",
       "    </tr>\n",
       "  </thead>\n",
       "  <tbody>\n",
       "    <tr>\n",
       "      <th>0</th>\n",
       "      <td>Dade</td>\n",
       "      <td>12345</td>\n",
       "      <td>Rick Scott</td>\n",
       "      <td>Florida</td>\n",
       "      <td>FL</td>\n",
       "    </tr>\n",
       "    <tr>\n",
       "      <th>1</th>\n",
       "      <td>Broward</td>\n",
       "      <td>40000</td>\n",
       "      <td>Rick Scott</td>\n",
       "      <td>Florida</td>\n",
       "      <td>FL</td>\n",
       "    </tr>\n",
       "    <tr>\n",
       "      <th>2</th>\n",
       "      <td>Palm Beach</td>\n",
       "      <td>60000</td>\n",
       "      <td>Rick Scott</td>\n",
       "      <td>Florida</td>\n",
       "      <td>FL</td>\n",
       "    </tr>\n",
       "    <tr>\n",
       "      <th>3</th>\n",
       "      <td>Summit</td>\n",
       "      <td>1234</td>\n",
       "      <td>John Kasich</td>\n",
       "      <td>Ohio</td>\n",
       "      <td>OH</td>\n",
       "    </tr>\n",
       "    <tr>\n",
       "      <th>4</th>\n",
       "      <td>Cuyahoga</td>\n",
       "      <td>1337</td>\n",
       "      <td>John Kasich</td>\n",
       "      <td>Ohio</td>\n",
       "      <td>OH</td>\n",
       "    </tr>\n",
       "  </tbody>\n",
       "</table>\n",
       "</div>"
      ],
      "text/plain": [
       "         name  population info.governor    state shortname\n",
       "0        Dade       12345    Rick Scott  Florida        FL\n",
       "1     Broward       40000    Rick Scott  Florida        FL\n",
       "2  Palm Beach       60000    Rick Scott  Florida        FL\n",
       "3      Summit        1234   John Kasich     Ohio        OH\n",
       "4    Cuyahoga        1337   John Kasich     Ohio        OH"
      ]
     },
     "execution_count": 5,
     "metadata": {},
     "output_type": "execute_result"
    }
   ],
   "source": [
    "# further populate tables created from nested element\n",
    "json_normalize(data, 'counties', ['state', 'shortname', ['info', 'governor']])"
   ]
  },
  {
   "cell_type": "markdown",
   "metadata": {},
   "source": [
    "****\n",
    "## JSON example, with file\n",
    "\n",
    "+ demonstrates reading in a json file as a string and as a table\n",
    "+ uses small sample file containing data about projects funded by the World Bank \n",
    "+ data source: http://jsonstudio.com/resources/"
   ]
  },
  {
   "cell_type": "code",
   "execution_count": 6,
   "metadata": {
    "collapsed": false
   },
   "outputs": [
    {
     "data": {
      "text/plain": [
       "[{u'_id': {u'$oid': u'52b213b38594d8a2be17c780'},\n",
       "  u'approvalfy': 1999,\n",
       "  u'board_approval_month': u'November',\n",
       "  u'boardapprovaldate': u'2013-11-12T00:00:00Z',\n",
       "  u'borrower': u'FEDERAL DEMOCRATIC REPUBLIC OF ETHIOPIA',\n",
       "  u'closingdate': u'2018-07-07T00:00:00Z',\n",
       "  u'country_namecode': u'Federal Democratic Republic of Ethiopia!$!ET',\n",
       "  u'countrycode': u'ET',\n",
       "  u'countryname': u'Federal Democratic Republic of Ethiopia',\n",
       "  u'countryshortname': u'Ethiopia',\n",
       "  u'docty': u'Project Information Document,Indigenous Peoples Plan,Project Information Document',\n",
       "  u'envassesmentcategorycode': u'C',\n",
       "  u'grantamt': 0,\n",
       "  u'ibrdcommamt': 0,\n",
       "  u'id': u'P129828',\n",
       "  u'idacommamt': 130000000,\n",
       "  u'impagency': u'MINISTRY OF EDUCATION',\n",
       "  u'lendinginstr': u'Investment Project Financing',\n",
       "  u'lendinginstrtype': u'IN',\n",
       "  u'lendprojectcost': 550000000,\n",
       "  u'majorsector_percent': [{u'Name': u'Education', u'Percent': 46},\n",
       "   {u'Name': u'Education', u'Percent': 26},\n",
       "   {u'Name': u'Public Administration, Law, and Justice', u'Percent': 16},\n",
       "   {u'Name': u'Education', u'Percent': 12}],\n",
       "  u'mjsector_namecode': [{u'code': u'EX', u'name': u'Education'},\n",
       "   {u'code': u'EX', u'name': u'Education'},\n",
       "   {u'code': u'BX', u'name': u'Public Administration, Law, and Justice'},\n",
       "   {u'code': u'EX', u'name': u'Education'}],\n",
       "  u'mjtheme': [u'Human development'],\n",
       "  u'mjtheme_namecode': [{u'code': u'8', u'name': u'Human development'},\n",
       "   {u'code': u'11', u'name': u''}],\n",
       "  u'mjthemecode': u'8,11',\n",
       "  u'prodline': u'PE',\n",
       "  u'prodlinetext': u'IBRD/IDA',\n",
       "  u'productlinetype': u'L',\n",
       "  u'project_abstract': {u'cdata': u'The development objective of the Second Phase of General Education Quality Improvement Project for Ethiopia is to improve learning conditions in primary and secondary schools and strengthen institutions at different levels of educational administration. The project has six components. The first component is curriculum, textbooks, assessment, examinations, and inspection. This component will support improvement of learning conditions in grades KG-12 by providing increased access to teaching and learning materials and through improvements to the curriculum by assessing the strengths and weaknesses of the current curriculum. This component has following four sub-components: (i) curriculum reform and implementation; (ii) teaching and learning materials; (iii) assessment and examinations; and (iv) inspection. The second component is teacher development program (TDP). This component will support improvements in learning conditions in both primary and secondary schools by advancing the quality of teaching in general education through: (a) enhancing the training of pre-service teachers in teacher education institutions; and (b) improving the quality of in-service teacher training. This component has following three sub-components: (i) pre-service teacher training; (ii) in-service teacher training; and (iii) licensing and relicensing of teachers and school leaders. The third component is school improvement plan. This component will support the strengthening of school planning in order to improve learning outcomes, and to partly fund the school improvement plans through school grants. It has following two sub-components: (i) school improvement plan; and (ii) school grants. The fourth component is management and capacity building, including education management information systems (EMIS). This component will support management and capacity building aspect of the project. This component has following three sub-components: (i) capacity building for education planning and management; (ii) capacity building for school planning and management; and (iii) EMIS. The fifth component is improving the quality of learning and teaching in secondary schools and universities through the use of information and communications technology (ICT). It has following five sub-components: (i) national policy and institution for ICT in general education; (ii) national ICT infrastructure improvement plan for general education; (iii) develop an integrated monitoring, evaluation, and learning system specifically for the ICT component; (iv) teacher professional development in the use of ICT; and (v) provision of limited number of e-Braille display readers with the possibility to scale up to all secondary education schools based on the successful implementation and usage of the readers. The sixth component is program coordination, monitoring and evaluation, and communication. It will support institutional strengthening by developing capacities in all aspects of program coordination, monitoring and evaluation; a new sub-component on communications will support information sharing for better management and accountability. It has following three sub-components: (i) program coordination; (ii) monitoring and evaluation (M and E); and (iii) communication.'},\n",
       "  u'project_name': u'Ethiopia General Education Quality Improvement Project II',\n",
       "  u'projectdocs': [{u'DocDate': u'28-AUG-2013',\n",
       "    u'DocType': u'PID',\n",
       "    u'DocTypeDesc': u'Project Information Document (PID),  Vol.',\n",
       "    u'DocURL': u'http://www-wds.worldbank.org/servlet/WDSServlet?pcont=details&eid=090224b081e545fb_1_0',\n",
       "    u'EntityID': u'090224b081e545fb_1_0'},\n",
       "   {u'DocDate': u'01-JUL-2013',\n",
       "    u'DocType': u'IP',\n",
       "    u'DocTypeDesc': u'Indigenous Peoples Plan (IP),  Vol.1 of 1',\n",
       "    u'DocURL': u'http://www-wds.worldbank.org/servlet/WDSServlet?pcont=details&eid=000442464_20130920111729',\n",
       "    u'EntityID': u'000442464_20130920111729'},\n",
       "   {u'DocDate': u'22-NOV-2012',\n",
       "    u'DocType': u'PID',\n",
       "    u'DocTypeDesc': u'Project Information Document (PID),  Vol.',\n",
       "    u'DocURL': u'http://www-wds.worldbank.org/servlet/WDSServlet?pcont=details&eid=090224b0817b19e2_1_0',\n",
       "    u'EntityID': u'090224b0817b19e2_1_0'}],\n",
       "  u'projectfinancialtype': u'IDA',\n",
       "  u'projectstatusdisplay': u'Active',\n",
       "  u'regionname': u'Africa',\n",
       "  u'sector': [{u'Name': u'Primary education'},\n",
       "   {u'Name': u'Secondary education'},\n",
       "   {u'Name': u'Public administration- Other social services'},\n",
       "   {u'Name': u'Tertiary education'}],\n",
       "  u'sector1': {u'Name': u'Primary education', u'Percent': 46},\n",
       "  u'sector2': {u'Name': u'Secondary education', u'Percent': 26},\n",
       "  u'sector3': {u'Name': u'Public administration- Other social services',\n",
       "   u'Percent': 16},\n",
       "  u'sector4': {u'Name': u'Tertiary education', u'Percent': 12},\n",
       "  u'sector_namecode': [{u'code': u'EP', u'name': u'Primary education'},\n",
       "   {u'code': u'ES', u'name': u'Secondary education'},\n",
       "   {u'code': u'BS', u'name': u'Public administration- Other social services'},\n",
       "   {u'code': u'ET', u'name': u'Tertiary education'}],\n",
       "  u'sectorcode': u'ET,BS,ES,EP',\n",
       "  u'source': u'IBRD',\n",
       "  u'status': u'Active',\n",
       "  u'supplementprojectflg': u'N',\n",
       "  u'theme1': {u'Name': u'Education for all', u'Percent': 100},\n",
       "  u'theme_namecode': [{u'code': u'65', u'name': u'Education for all'}],\n",
       "  u'themecode': u'65',\n",
       "  u'totalamt': 130000000,\n",
       "  u'totalcommamt': 130000000,\n",
       "  u'url': u'http://www.worldbank.org/projects/P129828/ethiopia-general-education-quality-improvement-project-ii?lang=en'},\n",
       " {u'_id': {u'$oid': u'52b213b38594d8a2be17c781'},\n",
       "  u'approvalfy': 2015,\n",
       "  u'board_approval_month': u'November',\n",
       "  u'boardapprovaldate': u'2013-11-04T00:00:00Z',\n",
       "  u'borrower': u'GOVERNMENT OF TUNISIA',\n",
       "  u'country_namecode': u'Republic of Tunisia!$!TN',\n",
       "  u'countrycode': u'TN',\n",
       "  u'countryname': u'Republic of Tunisia',\n",
       "  u'countryshortname': u'Tunisia',\n",
       "  u'docty': u'Project Information Document,Integrated Safeguards Data Sheet,Integrated Safeguards Data Sheet,Project Information Document,Integrated Safeguards Data Sheet,Project Information Document',\n",
       "  u'envassesmentcategorycode': u'C',\n",
       "  u'grantamt': 4700000,\n",
       "  u'ibrdcommamt': 0,\n",
       "  u'id': u'P144674',\n",
       "  u'idacommamt': 0,\n",
       "  u'impagency': u'MINISTRY OF FINANCE',\n",
       "  u'lendinginstr': u'Specific Investment Loan',\n",
       "  u'lendinginstrtype': u'IN',\n",
       "  u'lendprojectcost': 5700000,\n",
       "  u'majorsector_percent': [{u'Name': u'Public Administration, Law, and Justice',\n",
       "    u'Percent': 70},\n",
       "   {u'Name': u'Public Administration, Law, and Justice', u'Percent': 30}],\n",
       "  u'mjsector_namecode': [{u'code': u'BX',\n",
       "    u'name': u'Public Administration, Law, and Justice'},\n",
       "   {u'code': u'BX', u'name': u'Public Administration, Law, and Justice'}],\n",
       "  u'mjtheme': [u'Economic management',\n",
       "   u'Social protection and risk management'],\n",
       "  u'mjtheme_namecode': [{u'code': u'1', u'name': u'Economic management'},\n",
       "   {u'code': u'6', u'name': u'Social protection and risk management'}],\n",
       "  u'mjthemecode': u'1,6',\n",
       "  u'prodline': u'RE',\n",
       "  u'prodlinetext': u'Recipient Executed Activities',\n",
       "  u'productlinetype': u'L',\n",
       "  u'project_name': u'TN: DTF Social Protection Reforms Support',\n",
       "  u'projectdocs': [{u'DocDate': u'29-MAR-2013',\n",
       "    u'DocType': u'PID',\n",
       "    u'DocTypeDesc': u'Project Information Document (PID),  Vol.1 of 1',\n",
       "    u'DocURL': u'http://www-wds.worldbank.org/servlet/WDSServlet?pcont=details&eid=000333037_20131024115616',\n",
       "    u'EntityID': u'000333037_20131024115616'},\n",
       "   {u'DocDate': u'29-MAR-2013',\n",
       "    u'DocType': u'ISDS',\n",
       "    u'DocTypeDesc': u'Integrated Safeguards Data Sheet (ISDS),  Vol.1 of 1',\n",
       "    u'DocURL': u'http://www-wds.worldbank.org/servlet/WDSServlet?pcont=details&eid=000356161_20131024151611',\n",
       "    u'EntityID': u'000356161_20131024151611'},\n",
       "   {u'DocDate': u'29-MAR-2013',\n",
       "    u'DocType': u'ISDS',\n",
       "    u'DocTypeDesc': u'Integrated Safeguards Data Sheet (ISDS),  Vol.1 of 1',\n",
       "    u'DocURL': u'http://www-wds.worldbank.org/servlet/WDSServlet?pcont=details&eid=000442464_20131031112136',\n",
       "    u'EntityID': u'000442464_20131031112136'},\n",
       "   {u'DocDate': u'29-MAR-2013',\n",
       "    u'DocType': u'PID',\n",
       "    u'DocTypeDesc': u'Project Information Document (PID),  Vol.1 of 1',\n",
       "    u'DocURL': u'http://www-wds.worldbank.org/servlet/WDSServlet?pcont=details&eid=000333037_20131031105716',\n",
       "    u'EntityID': u'000333037_20131031105716'},\n",
       "   {u'DocDate': u'16-JAN-2013',\n",
       "    u'DocType': u'ISDS',\n",
       "    u'DocTypeDesc': u'Integrated Safeguards Data Sheet (ISDS),  Vol.1 of 1',\n",
       "    u'DocURL': u'http://www-wds.worldbank.org/servlet/WDSServlet?pcont=details&eid=000356161_20130305113209',\n",
       "    u'EntityID': u'000356161_20130305113209'},\n",
       "   {u'DocDate': u'16-JAN-2013',\n",
       "    u'DocType': u'PID',\n",
       "    u'DocTypeDesc': u'Project Information Document (PID),  Vol.1 of 1',\n",
       "    u'DocURL': u'http://www-wds.worldbank.org/servlet/WDSServlet?pcont=details&eid=000356161_20130305113716',\n",
       "    u'EntityID': u'000356161_20130305113716'}],\n",
       "  u'projectfinancialtype': u'OTHER',\n",
       "  u'projectstatusdisplay': u'Active',\n",
       "  u'regionname': u'Middle East and North Africa',\n",
       "  u'sector': [{u'Name': u'Public administration- Other social services'},\n",
       "   {u'Name': u'General public administration sector'}],\n",
       "  u'sector1': {u'Name': u'Public administration- Other social services',\n",
       "   u'Percent': 70},\n",
       "  u'sector2': {u'Name': u'General public administration sector',\n",
       "   u'Percent': 30},\n",
       "  u'sector_namecode': [{u'code': u'BS',\n",
       "    u'name': u'Public administration- Other social services'},\n",
       "   {u'code': u'BZ', u'name': u'General public administration sector'}],\n",
       "  u'sectorcode': u'BZ,BS',\n",
       "  u'source': u'IBRD',\n",
       "  u'status': u'Active',\n",
       "  u'supplementprojectflg': u'N',\n",
       "  u'theme1': {u'Name': u'Other economic management', u'Percent': 30},\n",
       "  u'theme_namecode': [{u'code': u'24', u'name': u'Other economic management'},\n",
       "   {u'code': u'54', u'name': u'Social safety nets'}],\n",
       "  u'themecode': u'54,24',\n",
       "  u'totalamt': 0,\n",
       "  u'totalcommamt': 4700000,\n",
       "  u'url': u'http://www.worldbank.org/projects/P144674?lang=en'}]"
      ]
     },
     "execution_count": 6,
     "metadata": {},
     "output_type": "execute_result"
    }
   ],
   "source": [
    "# load json as string\n",
    "json.load((open('data/world_bank_projects_less.json')))"
   ]
  },
  {
   "cell_type": "code",
   "execution_count": 7,
   "metadata": {
    "collapsed": false
   },
   "outputs": [
    {
     "data": {
      "text/html": [
       "<div>\n",
       "<table border=\"1\" class=\"dataframe\">\n",
       "  <thead>\n",
       "    <tr style=\"text-align: right;\">\n",
       "      <th></th>\n",
       "      <th>_id</th>\n",
       "      <th>approvalfy</th>\n",
       "      <th>board_approval_month</th>\n",
       "      <th>boardapprovaldate</th>\n",
       "      <th>borrower</th>\n",
       "      <th>closingdate</th>\n",
       "      <th>country_namecode</th>\n",
       "      <th>countrycode</th>\n",
       "      <th>countryname</th>\n",
       "      <th>countryshortname</th>\n",
       "      <th>...</th>\n",
       "      <th>sectorcode</th>\n",
       "      <th>source</th>\n",
       "      <th>status</th>\n",
       "      <th>supplementprojectflg</th>\n",
       "      <th>theme1</th>\n",
       "      <th>theme_namecode</th>\n",
       "      <th>themecode</th>\n",
       "      <th>totalamt</th>\n",
       "      <th>totalcommamt</th>\n",
       "      <th>url</th>\n",
       "    </tr>\n",
       "  </thead>\n",
       "  <tbody>\n",
       "    <tr>\n",
       "      <th>0</th>\n",
       "      <td>{u'$oid': u'52b213b38594d8a2be17c780'}</td>\n",
       "      <td>1999</td>\n",
       "      <td>November</td>\n",
       "      <td>2013-11-12T00:00:00Z</td>\n",
       "      <td>FEDERAL DEMOCRATIC REPUBLIC OF ETHIOPIA</td>\n",
       "      <td>2018-07-07T00:00:00Z</td>\n",
       "      <td>Federal Democratic Republic of Ethiopia!$!ET</td>\n",
       "      <td>ET</td>\n",
       "      <td>Federal Democratic Republic of Ethiopia</td>\n",
       "      <td>Ethiopia</td>\n",
       "      <td>...</td>\n",
       "      <td>ET,BS,ES,EP</td>\n",
       "      <td>IBRD</td>\n",
       "      <td>Active</td>\n",
       "      <td>N</td>\n",
       "      <td>{u'Percent': 100, u'Name': u'Education for all'}</td>\n",
       "      <td>[{u'code': u'65', u'name': u'Education for all'}]</td>\n",
       "      <td>65</td>\n",
       "      <td>130000000</td>\n",
       "      <td>130000000</td>\n",
       "      <td>http://www.worldbank.org/projects/P129828/ethi...</td>\n",
       "    </tr>\n",
       "    <tr>\n",
       "      <th>1</th>\n",
       "      <td>{u'$oid': u'52b213b38594d8a2be17c781'}</td>\n",
       "      <td>2015</td>\n",
       "      <td>November</td>\n",
       "      <td>2013-11-04T00:00:00Z</td>\n",
       "      <td>GOVERNMENT OF TUNISIA</td>\n",
       "      <td>NaN</td>\n",
       "      <td>Republic of Tunisia!$!TN</td>\n",
       "      <td>TN</td>\n",
       "      <td>Republic of Tunisia</td>\n",
       "      <td>Tunisia</td>\n",
       "      <td>...</td>\n",
       "      <td>BZ,BS</td>\n",
       "      <td>IBRD</td>\n",
       "      <td>Active</td>\n",
       "      <td>N</td>\n",
       "      <td>{u'Percent': 30, u'Name': u'Other economic man...</td>\n",
       "      <td>[{u'code': u'24', u'name': u'Other economic ma...</td>\n",
       "      <td>54,24</td>\n",
       "      <td>0</td>\n",
       "      <td>4700000</td>\n",
       "      <td>http://www.worldbank.org/projects/P144674?lang=en</td>\n",
       "    </tr>\n",
       "  </tbody>\n",
       "</table>\n",
       "<p>2 rows × 50 columns</p>\n",
       "</div>"
      ],
      "text/plain": [
       "                                      _id  approvalfy board_approval_month  \\\n",
       "0  {u'$oid': u'52b213b38594d8a2be17c780'}        1999             November   \n",
       "1  {u'$oid': u'52b213b38594d8a2be17c781'}        2015             November   \n",
       "\n",
       "      boardapprovaldate                                 borrower  \\\n",
       "0  2013-11-12T00:00:00Z  FEDERAL DEMOCRATIC REPUBLIC OF ETHIOPIA   \n",
       "1  2013-11-04T00:00:00Z                    GOVERNMENT OF TUNISIA   \n",
       "\n",
       "            closingdate                              country_namecode  \\\n",
       "0  2018-07-07T00:00:00Z  Federal Democratic Republic of Ethiopia!$!ET   \n",
       "1                   NaN                      Republic of Tunisia!$!TN   \n",
       "\n",
       "  countrycode                              countryname countryshortname  \\\n",
       "0          ET  Federal Democratic Republic of Ethiopia         Ethiopia   \n",
       "1          TN                      Republic of Tunisia          Tunisia   \n",
       "\n",
       "                         ...                           sectorcode source  \\\n",
       "0                        ...                          ET,BS,ES,EP   IBRD   \n",
       "1                        ...                                BZ,BS   IBRD   \n",
       "\n",
       "   status  supplementprojectflg  \\\n",
       "0  Active                     N   \n",
       "1  Active                     N   \n",
       "\n",
       "                                              theme1  \\\n",
       "0   {u'Percent': 100, u'Name': u'Education for all'}   \n",
       "1  {u'Percent': 30, u'Name': u'Other economic man...   \n",
       "\n",
       "                                      theme_namecode themecode   totalamt  \\\n",
       "0  [{u'code': u'65', u'name': u'Education for all'}]        65  130000000   \n",
       "1  [{u'code': u'24', u'name': u'Other economic ma...     54,24          0   \n",
       "\n",
       "  totalcommamt                                                url  \n",
       "0    130000000  http://www.worldbank.org/projects/P129828/ethi...  \n",
       "1      4700000  http://www.worldbank.org/projects/P144674?lang=en  \n",
       "\n",
       "[2 rows x 50 columns]"
      ]
     },
     "execution_count": 7,
     "metadata": {},
     "output_type": "execute_result"
    }
   ],
   "source": [
    "# load as Pandas dataframe\n",
    "sample_json_df = pd.read_json('data/world_bank_projects_less.json')\n",
    "sample_json_df"
   ]
  },
  {
   "cell_type": "markdown",
   "metadata": {},
   "source": [
    "****\n",
    "## JSON exercise\n",
    "\n",
    "Using data in file 'data/world_bank_projects.json' and the techniques demonstrated above,\n",
    "1. Find the 10 countries with most projects\n",
    "2. Find the top 10 major project themes (using column 'mjtheme_namecode')\n",
    "3. In 2. above you will notice that some entries have only the code and the name is missing. Create a dataframe with the missing names filled in."
   ]
  },
  {
   "cell_type": "markdown",
   "metadata": {},
   "source": [
    "## work\n",
    "\n",
    "- Load the data"
   ]
  },
  {
   "cell_type": "markdown",
   "metadata": {},
   "source": [
    "- Explore the data, view sample data"
   ]
  },
  {
   "cell_type": "code",
   "execution_count": 8,
   "metadata": {
    "collapsed": false
   },
   "outputs": [],
   "source": [
    "json_df = pd.read_json('data/world_bank_projects.json')"
   ]
  },
  {
   "cell_type": "code",
   "execution_count": 29,
   "metadata": {
    "collapsed": false
   },
   "outputs": [
    {
     "name": "stdout",
     "output_type": "stream",
     "text": [
      "<class 'pandas.core.frame.DataFrame'>\n",
      "Int64Index: 500 entries, 0 to 499\n",
      "Data columns (total 50 columns):\n",
      "_id                         500 non-null object\n",
      "approvalfy                  500 non-null int64\n",
      "board_approval_month        500 non-null object\n",
      "boardapprovaldate           500 non-null object\n",
      "borrower                    485 non-null object\n",
      "closingdate                 370 non-null object\n",
      "country_namecode            500 non-null object\n",
      "countrycode                 500 non-null object\n",
      "countryname                 500 non-null object\n",
      "countryshortname            500 non-null object\n",
      "docty                       446 non-null object\n",
      "envassesmentcategorycode    430 non-null object\n",
      "grantamt                    500 non-null int64\n",
      "ibrdcommamt                 500 non-null int64\n",
      "id                          500 non-null object\n",
      "idacommamt                  500 non-null int64\n",
      "impagency                   472 non-null object\n",
      "lendinginstr                495 non-null object\n",
      "lendinginstrtype            495 non-null object\n",
      "lendprojectcost             500 non-null int64\n",
      "majorsector_percent         500 non-null object\n",
      "mjsector_namecode           500 non-null object\n",
      "mjtheme                     491 non-null object\n",
      "mjtheme_namecode            500 non-null object\n",
      "mjthemecode                 500 non-null object\n",
      "prodline                    500 non-null object\n",
      "prodlinetext                500 non-null object\n",
      "productlinetype             500 non-null object\n",
      "project_abstract            362 non-null object\n",
      "project_name                500 non-null object\n",
      "projectdocs                 446 non-null object\n",
      "projectfinancialtype        500 non-null object\n",
      "projectstatusdisplay        500 non-null object\n",
      "regionname                  500 non-null object\n",
      "sector                      500 non-null object\n",
      "sector1                     500 non-null object\n",
      "sector2                     380 non-null object\n",
      "sector3                     265 non-null object\n",
      "sector4                     174 non-null object\n",
      "sector_namecode             500 non-null object\n",
      "sectorcode                  500 non-null object\n",
      "source                      500 non-null object\n",
      "status                      500 non-null object\n",
      "supplementprojectflg        498 non-null object\n",
      "theme1                      500 non-null object\n",
      "theme_namecode              491 non-null object\n",
      "themecode                   491 non-null object\n",
      "totalamt                    500 non-null int64\n",
      "totalcommamt                500 non-null int64\n",
      "url                         500 non-null object\n",
      "dtypes: int64(7), object(43)\n",
      "memory usage: 199.2+ KB\n",
      "None\n",
      "                                       _id  approvalfy board_approval_month  \\\n",
      "0   {u'$oid': u'52b213b38594d8a2be17c780'}        1999             November   \n",
      "1   {u'$oid': u'52b213b38594d8a2be17c781'}        2015             November   \n",
      "2   {u'$oid': u'52b213b38594d8a2be17c782'}        2014             November   \n",
      "3   {u'$oid': u'52b213b38594d8a2be17c783'}        2014              October   \n",
      "4   {u'$oid': u'52b213b38594d8a2be17c784'}        2014              October   \n",
      "5   {u'$oid': u'52b213b38594d8a2be17c785'}        2014              October   \n",
      "6   {u'$oid': u'52b213b38594d8a2be17c786'}        2014              October   \n",
      "7   {u'$oid': u'52b213b38594d8a2be17c787'}        2014              October   \n",
      "8   {u'$oid': u'52b213b38594d8a2be17c788'}        2014              October   \n",
      "9   {u'$oid': u'52b213b38594d8a2be17c789'}        2014              October   \n",
      "10  {u'$oid': u'52b213b38594d8a2be17c78a'}        2014              October   \n",
      "\n",
      "       boardapprovaldate                                 borrower  \\\n",
      "0   2013-11-12T00:00:00Z  FEDERAL DEMOCRATIC REPUBLIC OF ETHIOPIA   \n",
      "1   2013-11-04T00:00:00Z                    GOVERNMENT OF TUNISIA   \n",
      "2   2013-11-01T00:00:00Z   MINISTRY OF FINANCE AND ECONOMIC DEVEL   \n",
      "3   2013-10-31T00:00:00Z   MIN. OF PLANNING AND INT'L COOPERATION   \n",
      "4   2013-10-31T00:00:00Z                      MINISTRY OF FINANCE   \n",
      "5   2013-10-31T00:00:00Z                        REPUBLIC OF KENYA   \n",
      "6   2013-10-29T00:00:00Z                      GOVERNMENT OF INDIA   \n",
      "7   2013-10-29T00:00:00Z               PEOPLE'S REPUBLIC OF CHINA   \n",
      "8   2013-10-29T00:00:00Z                  THE GOVERNMENT OF INDIA   \n",
      "9   2013-10-29T00:00:00Z                   THE KINGDOM OF MOROCCO   \n",
      "10  2013-10-25T00:00:00Z                GOVERNMENT OF SOUTH SUDAN   \n",
      "\n",
      "             closingdate                              country_namecode  \\\n",
      "0   2018-07-07T00:00:00Z  Federal Democratic Republic of Ethiopia!$!ET   \n",
      "1                    NaN                      Republic of Tunisia!$!TN   \n",
      "2                    NaN                                   Tuvalu!$!TV   \n",
      "3                    NaN                        Republic of Yemen!$!RY   \n",
      "4   2019-04-30T00:00:00Z                       Kingdom of Lesotho!$!LS   \n",
      "5                    NaN                        Republic of Kenya!$!KE   \n",
      "6   2019-06-30T00:00:00Z                        Republic of India!$!IN   \n",
      "7                    NaN               People's Republic of China!$!CN   \n",
      "8   2018-12-31T00:00:00Z                        Republic of India!$!IN   \n",
      "9   2014-12-31T00:00:00Z                       Kingdom of Morocco!$!MA   \n",
      "10                   NaN                  Republic of South Sudan!$!SS   \n",
      "\n",
      "   countrycode                              countryname    countryshortname  \\\n",
      "0           ET  Federal Democratic Republic of Ethiopia            Ethiopia   \n",
      "1           TN                      Republic of Tunisia             Tunisia   \n",
      "2           TV                                   Tuvalu              Tuvalu   \n",
      "3           RY                        Republic of Yemen  Yemen, Republic of   \n",
      "4           LS                       Kingdom of Lesotho             Lesotho   \n",
      "5           KE                        Republic of Kenya               Kenya   \n",
      "6           IN                        Republic of India               India   \n",
      "7           CN               People's Republic of China               China   \n",
      "8           IN                        Republic of India               India   \n",
      "9           MA                       Kingdom of Morocco             Morocco   \n",
      "10          SS                  Republic of South Sudan         South Sudan   \n",
      "\n",
      "                                                docty  \\\n",
      "0   Project Information Document,Indigenous People...   \n",
      "1   Project Information Document,Integrated Safegu...   \n",
      "2   Resettlement Plan,Environmental Assessment,Int...   \n",
      "3   Procurement Plan,Project Information Document,...   \n",
      "4   Project Information Document,Integrated Safegu...   \n",
      "5   Integrated Safeguards Data Sheet,Project Infor...   \n",
      "6   Project Appraisal Document,Procurement Plan,In...   \n",
      "7   Project Appraisal Document,Integrated Safeguar...   \n",
      "8   Project Appraisal Document,Integrated Safeguar...   \n",
      "9   Program Document,Project Information Document,...   \n",
      "10         Project Paper,Project Information Document   \n",
      "\n",
      "   envassesmentcategorycode  grantamt  ibrdcommamt       id  idacommamt  \\\n",
      "0                         C         0            0  P129828   130000000   \n",
      "1                         C   4700000            0  P144674           0   \n",
      "2                         B         0            0  P145310     6060000   \n",
      "3                         C   1500000            0  P144665           0   \n",
      "4                         B         0            0  P144933    13100000   \n",
      "5                         C         0            0  P146161    10000000   \n",
      "6                         A         0    500000000  P121185           0   \n",
      "7                         C  27280000            0  P127033           0   \n",
      "8                         B         0            0  P130164   160000000   \n",
      "9                       NaN         0    200000000  P130903           0   \n",
      "10                        B   7530000            0  P145339           0   \n",
      "\n",
      "                                            impagency  \\\n",
      "0                               MINISTRY OF EDUCATION   \n",
      "1                                 MINISTRY OF FINANCE   \n",
      "2            MINISTRY OF TRANSPORT AND COMMUNICATIONS   \n",
      "3            LABOR INTENSIVE PUBLIC WORKS PROJECT PMU   \n",
      "4                      MINISTRY OF TRADE AND INDUSTRY   \n",
      "5                                                 NaN   \n",
      "6             MINISTRY OF ROAD TRANSPORT AND HIGHWAYS   \n",
      "7                      NATIONAL ENERGY ADMINISTRATION   \n",
      "8                  PUBLIC WORKS DEPARTMANT, RAJASTHAN   \n",
      "9                                 MINISTRY OF FINANCE   \n",
      "10  MINISTRY OF AGRICULTURE, COOPERATIVES AND RURA...   \n",
      "\n",
      "                    lendinginstr lendinginstrtype  lendprojectcost  \n",
      "0   Investment Project Financing               IN        550000000  \n",
      "1       Specific Investment Loan               IN          5700000  \n",
      "2   Investment Project Financing               IN          6060000  \n",
      "3      Technical Assistance Loan               IN          1500000  \n",
      "4   Investment Project Financing               IN         15000000  \n",
      "5   Investment Project Financing               IN         66400000  \n",
      "6       Specific Investment Loan               IN       1146050000  \n",
      "7   Investment Project Financing               IN         27280000  \n",
      "8       Specific Investment Loan               IN        227000000  \n",
      "9     Development Policy Lending               AD        200000000  \n",
      "10      Specific Investment Loan               IN          7530000  \n",
      "                                  majorsector_percent  \\\n",
      "0   [{u'Percent': 46, u'Name': u'Education'}, {u'P...   \n",
      "1   [{u'Percent': 70, u'Name': u'Public Administra...   \n",
      "2     [{u'Percent': 100, u'Name': u'Transportation'}]   \n",
      "3   [{u'Percent': 100, u'Name': u'Health and other...   \n",
      "4   [{u'Percent': 50, u'Name': u'Industry and trad...   \n",
      "5   [{u'Percent': 100, u'Name': u'Health and other...   \n",
      "6     [{u'Percent': 100, u'Name': u'Transportation'}]   \n",
      "7   [{u'Percent': 100, u'Name': u'Energy and minin...   \n",
      "8     [{u'Percent': 100, u'Name': u'Transportation'}]   \n",
      "9   [{u'Percent': 34, u'Name': u'Public Administra...   \n",
      "10  [{u'Percent': 50, u'Name': u'Agriculture, fish...   \n",
      "\n",
      "                                    mjsector_namecode  \\\n",
      "0   [{u'code': u'EX', u'name': u'Education'}, {u'c...   \n",
      "1   [{u'code': u'BX', u'name': u'Public Administra...   \n",
      "2      [{u'code': u'TX', u'name': u'Transportation'}]   \n",
      "3   [{u'code': u'JX', u'name': u'Health and other ...   \n",
      "4   [{u'code': u'YX', u'name': u'Industry and trad...   \n",
      "5   [{u'code': u'JX', u'name': u'Health and other ...   \n",
      "6      [{u'code': u'TX', u'name': u'Transportation'}]   \n",
      "7   [{u'code': u'LX', u'name': u'Energy and mining'}]   \n",
      "8      [{u'code': u'TX', u'name': u'Transportation'}]   \n",
      "9   [{u'code': u'BX', u'name': u'Public Administra...   \n",
      "10  [{u'code': u'AX', u'name': u'Agriculture, fish...   \n",
      "\n",
      "                                              mjtheme  \\\n",
      "0                                 [Human development]   \n",
      "1   [Economic management, Social protection and ri...   \n",
      "2   [Trade and integration, Public sector governan...   \n",
      "3   [Social dev/gender/inclusion, Social dev/gende...   \n",
      "4   [Trade and integration, Financial and private ...   \n",
      "5             [Social protection and risk management]   \n",
      "6   [Public sector governance, Financial and priva...   \n",
      "7      [Environment and natural resources management]   \n",
      "8                                 [Rural development]   \n",
      "9   [Public sector governance, Public sector gover...   \n",
      "10                                [Rural development]   \n",
      "\n",
      "                                     mjtheme_namecode mjthemecode prodline  \\\n",
      "0   [{u'code': u'8', u'name': u'Human development'...        8,11       PE   \n",
      "1   [{u'code': u'1', u'name': u'Economic managemen...         1,6       RE   \n",
      "2   [{u'code': u'5', u'name': u'Trade and integrat...    5,2,11,6       PE   \n",
      "3   [{u'code': u'7', u'name': u'Social dev/gender/...         7,7       RE   \n",
      "4   [{u'code': u'5', u'name': u'Trade and integrat...         5,4       PE   \n",
      "5   [{u'code': u'6', u'name': u'Social protection ...         6,6       PE   \n",
      "6   [{u'code': u'2', u'name': u'Public sector gove...         2,4       PE   \n",
      "7   [{u'code': u'11', u'name': u'Environment and n...        11,8       GE   \n",
      "8   [{u'code': u'10', u'name': u'Rural development...        10,7       PE   \n",
      "9   [{u'code': u'2', u'name': u'Public sector gove...       2,2,2       PE   \n",
      "10  [{u'code': u'10', u'name': u'Rural development...        10,2       RE   \n",
      "\n",
      "                     prodlinetext productlinetype  \\\n",
      "0                        IBRD/IDA               L   \n",
      "1   Recipient Executed Activities               L   \n",
      "2                        IBRD/IDA               L   \n",
      "3   Recipient Executed Activities               L   \n",
      "4                        IBRD/IDA               L   \n",
      "5                        IBRD/IDA               L   \n",
      "6                        IBRD/IDA               L   \n",
      "7      Global Environment Project               L   \n",
      "8                        IBRD/IDA               L   \n",
      "9                        IBRD/IDA               L   \n",
      "10  Recipient Executed Activities               L   \n",
      "\n",
      "                                     project_abstract  \\\n",
      "0   {u'cdata': u'The development objective of the ...   \n",
      "1                                                 NaN   \n",
      "2                                                 NaN   \n",
      "3                                                 NaN   \n",
      "4   {u'cdata': u'The development objective of the ...   \n",
      "5                                                 NaN   \n",
      "6   {u'cdata': u'The development objective of the ...   \n",
      "7   {u'cdata': u'The development objective of the ...   \n",
      "8   {u'cdata': u'The development objective of the ...   \n",
      "9   {u'cdata': u'The objective of this First Trans...   \n",
      "10  {u'cdata': u'The development objective of the ...   \n",
      "\n",
      "                                         project_name  \\\n",
      "0   Ethiopia General Education Quality Improvement...   \n",
      "1           TN: DTF Social Protection Reforms Support   \n",
      "2   Tuvalu Aviation Investment Project - Additiona...   \n",
      "3    Gov't and Civil Society Organization Partnership   \n",
      "4   Second Private Sector Competitiveness and Econ...   \n",
      "5   Additional Financing for Cash Transfers for Or...   \n",
      "6   National Highways Interconnectivity Improvemen...   \n",
      "7    China Renewable Energy Scale-Up Program Phase II   \n",
      "8         Rajasthan Road Sector Modernization Project   \n",
      "9              MA Accountability and Transparency DPL   \n",
      "10  Southern Sudan Emergency Food Crisis Response ...   \n",
      "\n",
      "                                          projectdocs projectfinancialtype  \\\n",
      "0   [{u'DocDate': u'28-AUG-2013', u'EntityID': u'0...                  IDA   \n",
      "1   [{u'DocDate': u'29-MAR-2013', u'EntityID': u'0...                OTHER   \n",
      "2   [{u'DocDate': u'21-OCT-2013', u'EntityID': u'0...                  IDA   \n",
      "3   [{u'DocDate': u'15-MAY-2013', u'EntityID': u'0...                OTHER   \n",
      "4   [{u'DocDate': u'06-SEP-2013', u'EntityID': u'0...                  IDA   \n",
      "5   [{u'DocDate': u'16-SEP-2013', u'EntityID': u'0...                  IDA   \n",
      "6   [{u'DocDate': u'02-OCT-2013', u'EntityID': u'0...                 IBRD   \n",
      "7   [{u'DocDate': u'18-SEP-2013', u'EntityID': u'0...                OTHER   \n",
      "8   [{u'DocDate': u'01-OCT-2013', u'EntityID': u'0...                  IDA   \n",
      "9   [{u'DocDate': u'30-SEP-2013', u'EntityID': u'0...                 IBRD   \n",
      "10  [{u'DocDate': u'01-OCT-2013', u'EntityID': u'0...                OTHER   \n",
      "\n",
      "   projectstatusdisplay                    regionname  \\\n",
      "0                Active                        Africa   \n",
      "1                Active  Middle East and North Africa   \n",
      "2                Active         East Asia and Pacific   \n",
      "3                Active  Middle East and North Africa   \n",
      "4                Active                        Africa   \n",
      "5                Active                        Africa   \n",
      "6                Active                    South Asia   \n",
      "7                Active         East Asia and Pacific   \n",
      "8                Active                    South Asia   \n",
      "9                Active  Middle East and North Africa   \n",
      "10               Active                        Africa   \n",
      "\n",
      "                                               sector  \\\n",
      "0   [{u'Name': u'Primary education'}, {u'Name': u'...   \n",
      "1   [{u'Name': u'Public administration- Other soci...   \n",
      "2   [{u'Name': u'Rural and Inter-Urban Roads and H...   \n",
      "3               [{u'Name': u'Other social services'}]   \n",
      "4   [{u'Name': u'General industry and trade sector...   \n",
      "5               [{u'Name': u'Other social services'}]   \n",
      "6   [{u'Name': u'Rural and Inter-Urban Roads and H...   \n",
      "7              [{u'Name': u'Other Renewable Energy'}]   \n",
      "8   [{u'Name': u'Rural and Inter-Urban Roads and H...   \n",
      "9   [{u'Name': u'General public administration sec...   \n",
      "10  [{u'Name': u'Crops'}, {u'Name': u'Other social...   \n",
      "\n",
      "                                              sector1  \\\n",
      "0     {u'Percent': 46, u'Name': u'Primary education'}   \n",
      "1   {u'Percent': 70, u'Name': u'Public administrat...   \n",
      "2   {u'Percent': 100, u'Name': u'Rural and Inter-U...   \n",
      "3   {u'Percent': 100, u'Name': u'Other social serv...   \n",
      "4   {u'Percent': 50, u'Name': u'General industry a...   \n",
      "5   {u'Percent': 100, u'Name': u'Other social serv...   \n",
      "6   {u'Percent': 100, u'Name': u'Rural and Inter-U...   \n",
      "7   {u'Percent': 100, u'Name': u'Other Renewable E...   \n",
      "8   {u'Percent': 100, u'Name': u'Rural and Inter-U...   \n",
      "9   {u'Percent': 34, u'Name': u'General public adm...   \n",
      "10                {u'Percent': 50, u'Name': u'Crops'}   \n",
      "\n",
      "                                              sector2  \\\n",
      "0   {u'Percent': 26, u'Name': u'Secondary education'}   \n",
      "1   {u'Percent': 30, u'Name': u'General public adm...   \n",
      "2                                                 NaN   \n",
      "3                                                 NaN   \n",
      "4        {u'Percent': 40, u'Name': u'Other industry'}   \n",
      "5                                                 NaN   \n",
      "6                                                 NaN   \n",
      "7                                                 NaN   \n",
      "8                                                 NaN   \n",
      "9   {u'Percent': 33, u'Name': u'Central government...   \n",
      "10  {u'Percent': 30, u'Name': u'Other social servi...   \n",
      "\n",
      "                                              sector3  \\\n",
      "0   {u'Percent': 16, u'Name': u'Public administrat...   \n",
      "1                                                 NaN   \n",
      "2                                                 NaN   \n",
      "3                                                 NaN   \n",
      "4           {u'Percent': 10, u'Name': u'SME Finance'}   \n",
      "5                                                 NaN   \n",
      "6                                                 NaN   \n",
      "7                                                 NaN   \n",
      "8                                                 NaN   \n",
      "9   {u'Percent': 33, u'Name': u'Public administrat...   \n",
      "10  {u'Percent': 20, u'Name': u'General agricultur...   \n",
      "\n",
      "                                             sector4  \\\n",
      "0   {u'Percent': 12, u'Name': u'Tertiary education'}   \n",
      "1                                                NaN   \n",
      "2                                                NaN   \n",
      "3                                                NaN   \n",
      "4                                                NaN   \n",
      "5                                                NaN   \n",
      "6                                                NaN   \n",
      "7                                                NaN   \n",
      "8                                                NaN   \n",
      "9                                                NaN   \n",
      "10                                               NaN   \n",
      "\n",
      "                                      sector_namecode  \n",
      "0   [{u'code': u'EP', u'name': u'Primary education...  \n",
      "1   [{u'code': u'BS', u'name': u'Public administra...  \n",
      "2   [{u'code': u'TI', u'name': u'Rural and Inter-U...  \n",
      "3   [{u'code': u'JB', u'name': u'Other social serv...  \n",
      "4   [{u'code': u'YZ', u'name': u'General industry ...  \n",
      "5   [{u'code': u'JB', u'name': u'Other social serv...  \n",
      "6   [{u'code': u'TI', u'name': u'Rural and Inter-U...  \n",
      "7   [{u'code': u'LR', u'name': u'Other Renewable E...  \n",
      "8   [{u'code': u'TI', u'name': u'Rural and Inter-U...  \n",
      "9   [{u'code': u'BZ', u'name': u'General public ad...  \n",
      "10  [{u'code': u'AH', u'name': u'Crops'}, {u'code'...  \n",
      "     sectorcode source  status supplementprojectflg  \\\n",
      "0   ET,BS,ES,EP   IBRD  Active                    N   \n",
      "1         BZ,BS   IBRD  Active                    N   \n",
      "2            TI   IBRD  Active                    Y   \n",
      "3            JB   IBRD  Active                    N   \n",
      "4      FH,YW,YZ   IBRD  Active                    N   \n",
      "5            JB   IBRD  Active                    Y   \n",
      "6            TI   IBRD  Active                    N   \n",
      "7            LR   IBRD  Active                    N   \n",
      "8            TI   IBRD  Active                    N   \n",
      "9      BM,BC,BZ   IBRD  Active                    N   \n",
      "10     AZ,JB,AH   IBRD  Active                    Y   \n",
      "\n",
      "                                               theme1  \\\n",
      "0    {u'Percent': 100, u'Name': u'Education for all'}   \n",
      "1   {u'Percent': 30, u'Name': u'Other economic man...   \n",
      "2   {u'Percent': 46, u'Name': u'Regional integrati...   \n",
      "3   {u'Percent': 50, u'Name': u'Participation and ...   \n",
      "4   {u'Percent': 30, u'Name': u'Export development...   \n",
      "5   {u'Percent': 100, u'Name': u'Social safety nets'}   \n",
      "6   {u'Percent': 20, u'Name': u'Administrative and...   \n",
      "7       {u'Percent': 100, u'Name': u'Climate change'}   \n",
      "8   {u'Percent': 87, u'Name': u'Other rural develo...   \n",
      "9   {u'Percent': 33, u'Name': u'Other accountabili...   \n",
      "10  {u'Percent': 100, u'Name': u'Global food crisi...   \n",
      "\n",
      "                                       theme_namecode    themecode   totalamt  \\\n",
      "0   [{u'code': u'65', u'name': u'Education for all'}]           65  130000000   \n",
      "1   [{u'code': u'24', u'name': u'Other economic ma...        54,24          0   \n",
      "2   [{u'code': u'47', u'name': u'Regional integrat...  52,81,25,47    6060000   \n",
      "3   [{u'code': u'57', u'name': u'Participation and...        59,57          0   \n",
      "4   [{u'code': u'45', u'name': u'Export developmen...        41,45   13100000   \n",
      "5   [{u'code': u'54', u'name': u'Social safety net...           54   10000000   \n",
      "6   [{u'code': u'25', u'name': u'Administrative an...        39,25  500000000   \n",
      "7      [{u'code': u'81', u'name': u'Climate change'}]           81          0   \n",
      "8   [{u'code': u'79', u'name': u'Other rural devel...           79  160000000   \n",
      "9   [{u'code': u'29', u'name': u'Other accountabil...     27,30,29  200000000   \n",
      "10  [{u'code': u'91', u'name': u'Global food crisi...           91          0   \n",
      "\n",
      "    totalcommamt                                                url  \n",
      "0      130000000  http://www.worldbank.org/projects/P129828/ethi...  \n",
      "1        4700000  http://www.worldbank.org/projects/P144674?lang=en  \n",
      "2        6060000  http://www.worldbank.org/projects/P145310?lang=en  \n",
      "3        1500000  http://www.worldbank.org/projects/P144665?lang=en  \n",
      "4       13100000  http://www.worldbank.org/projects/P144933/seco...  \n",
      "5       10000000  http://www.worldbank.org/projects/P146161?lang=en  \n",
      "6      500000000  http://www.worldbank.org/projects/P121185/firs...  \n",
      "7       27280000  http://www.worldbank.org/projects/P127033/chin...  \n",
      "8      160000000  http://www.worldbank.org/projects/P130164/raja...  \n",
      "9      200000000  http://www.worldbank.org/projects/P130903?lang=en  \n",
      "10       7530000  http://www.worldbank.org/projects/P145339?lang=en  \n"
     ]
    }
   ],
   "source": [
    "print(json_df.info())\n",
    "print(json_df.ix[:10,0:20])\n",
    "print(json_df.ix[:10,20:40])\n",
    "print(json_df.ix[:10,40:50])\n",
    "\n"
   ]
  },
  {
   "cell_type": "markdown",
   "metadata": {
    "collapsed": false
   },
   "source": [
    "### 1.  Find the top 10 countries with the most projects\n",
    "   -  Use 'countryname' for grouping\n",
    "   -  Count projects using 'project_name'"
   ]
  },
  {
   "cell_type": "code",
   "execution_count": 9,
   "metadata": {
    "collapsed": false
   },
   "outputs": [
    {
     "data": {
      "text/plain": [
       "countryname\n",
       "People's Republic of China         19\n",
       "Republic of Indonesia              19\n",
       "Socialist Republic of Vietnam      17\n",
       "Republic of India                  16\n",
       "Republic of Yemen                  13\n",
       "Nepal                              12\n",
       "People's Republic of Bangladesh    12\n",
       "Kingdom of Morocco                 12\n",
       "Africa                             11\n",
       "Republic of Mozambique             11\n",
       "Name: project_name, dtype: int64"
      ]
     },
     "execution_count": 9,
     "metadata": {},
     "output_type": "execute_result"
    }
   ],
   "source": [
    "json_df.groupby('countryname')['project_name'].nunique().sort_values(ascending = False).head(10)"
   ]
  },
  {
   "cell_type": "markdown",
   "metadata": {},
   "source": [
    "### 2. Find the top 10 major project themes (using column 'mjtheme_namecode').\n",
    "\n",
    "\n",
    "The column values are lists.  Each column entry is a list of dictionaries.  Each dictionary corresponds to a major project theme and contains two key value pairs {'code':XXX, 'name':YYY}. \n",
    "\n",
    "One could also view each column entry as a list of json objects. \n",
    "Each json object corresponds to a major project theme and contains the 'code' and 'name' information.\n",
    "\n",
    "To get the top 10 major project themes as given in the 'mjtheme_namecode' column:\n",
    "- Use `json_normalize` to convert each json object to a data frame row with column headers 'code' and 'name'.\n",
    "- Concatenate the list of data frames (converted to list from series result of apply).\n",
    "- Use groupby to get the count/size of each major project theme by code and name.\n",
    "  - Note: Here we see that sometimes the name field is not populated in the json object\n",
    "- Use head on sorted groupby result to get the top 10 major themes.\n"
   ]
  },
  {
   "cell_type": "code",
   "execution_count": 10,
   "metadata": {
    "collapsed": false
   },
   "outputs": [
    {
     "name": "stdout",
     "output_type": "stream",
     "text": [
      "<class 'pandas.core.frame.DataFrame'>\n",
      "Int64Index: 1499 entries, 0 to 3\n",
      "Data columns (total 2 columns):\n",
      "code    1499 non-null object\n",
      "name    1499 non-null object\n",
      "dtypes: object(2)\n",
      "memory usage: 35.1+ KB\n",
      "code  name                                        \n",
      "1                                                       5\n",
      "      Economic management                              33\n",
      "10                                                     14\n",
      "      Rural development                               202\n",
      "11                                                     27\n",
      "      Environment and natural resources management    223\n",
      "2                                                      15\n",
      "      Public sector governance                        184\n",
      "3                                                       3\n",
      "      Rule of law                                      12\n",
      "4                                                      16\n",
      "      Financial and private sector development        130\n",
      "5                                                       5\n",
      "      Trade and integration                            72\n",
      "6                                                      10\n",
      "      Social protection and risk management           158\n",
      "7                                                      11\n",
      "      Social dev/gender/inclusion                     119\n",
      "8                                                      13\n",
      "      Human development                               197\n",
      "9                                                       3\n",
      "      Urban development                                47\n",
      "dtype: int64\n"
     ]
    },
    {
     "data": {
      "text/plain": [
       "code  name                                        \n",
       "11    Environment and natural resources management    223\n",
       "10    Rural development                               202\n",
       "8     Human development                               197\n",
       "2     Public sector governance                        184\n",
       "6     Social protection and risk management           158\n",
       "4     Financial and private sector development        130\n",
       "7     Social dev/gender/inclusion                     119\n",
       "5     Trade and integration                            72\n",
       "9     Urban development                                47\n",
       "1     Economic management                              33\n",
       "dtype: int64"
      ]
     },
     "execution_count": 10,
     "metadata": {},
     "output_type": "execute_result"
    }
   ],
   "source": [
    "mjtheme_namecode = pd.concat(json_df['mjtheme_namecode'].apply(json_normalize).tolist())\n",
    "mjtheme_namecode.info()\n",
    "print(mjtheme_namecode.groupby(['code','name']).size())\n",
    "mjtheme_namecode.groupby(['code','name']).size().sort_values(ascending = False).head(10)"
   ]
  },
  {
   "cell_type": "markdown",
   "metadata": {},
   "source": [
    "### 3. In 2. above you will notice that some entries have only the code and the name is missing. Create a dataframe with the missing names filled in.\n",
    "\n",
    "- Make a reference dictionary with the code and name pairs from the mjtheme_namecode column\n",
    "- Create a function that checks a list of dictionaries for missing/blank 'name' values and fixes them using a code-name reference dictionary\n",
    "- Use `apply` to apply the function for each element in the 'mjtheme_namecode' series and create an updated series\n",
    "- Make a copy of the original json_df\n",
    "- In the json_df copy, replace the original 'mjtheme_namecode' series with the updated series"
   ]
  },
  {
   "cell_type": "code",
   "execution_count": 26,
   "metadata": {
    "collapsed": false
   },
   "outputs": [
    {
     "data": {
      "text/plain": [
       "{u'1': u'Economic management',\n",
       " u'10': u'Rural development',\n",
       " u'11': u'Environment and natural resources management',\n",
       " u'2': u'Public sector governance',\n",
       " u'3': u'Rule of law',\n",
       " u'4': u'Financial and private sector development',\n",
       " u'5': u'Trade and integration',\n",
       " u'6': u'Social protection and risk management',\n",
       " u'7': u'Social dev/gender/inclusion',\n",
       " u'8': u'Human development',\n",
       " u'9': u'Urban development'}"
      ]
     },
     "execution_count": 26,
     "metadata": {},
     "output_type": "execute_result"
    }
   ],
   "source": [
    "# use groupby object\n",
    "codename_dict = {code: name for code, name in mjtheme_namecode.groupby(['code','name']).groups if name != ''}\n",
    "codename_dict\n"
   ]
  },
  {
   "cell_type": "code",
   "execution_count": 29,
   "metadata": {
    "collapsed": false
   },
   "outputs": [],
   "source": [
    "def fix_missing_names(x, namedict):\n",
    "    # try to use list comprehension\n",
    "    ''' x is a list of dicts with form {'code':xxx, 'name': yyy} and namedict contains code, name pairs, xxx: yyy'''\n",
    "    return([mjtheme if mjtheme['name'] != '' else {'code': mjtheme['code'], 'name': namedict[mjtheme['code']]} for mjtheme in x])"
   ]
  },
  {
   "cell_type": "code",
   "execution_count": 30,
   "metadata": {
    "collapsed": false
   },
   "outputs": [
    {
     "name": "stdout",
     "output_type": "stream",
     "text": [
      "<class 'pandas.core.series.Series'>\n"
     ]
    },
    {
     "data": {
      "text/plain": [
       "0    [{u'code': u'8', u'name': u'Human development'...\n",
       "1    [{u'code': u'1', u'name': u'Economic managemen...\n",
       "2    [{u'code': u'5', u'name': u'Trade and integrat...\n",
       "3    [{u'code': u'7', u'name': u'Social dev/gender/...\n",
       "4    [{u'code': u'5', u'name': u'Trade and integrat...\n",
       "Name: mjtheme_namecode, dtype: object"
      ]
     },
     "execution_count": 30,
     "metadata": {},
     "output_type": "execute_result"
    }
   ],
   "source": [
    "updated_mjtheme_namecode = json_df['mjtheme_namecode'].apply(fix_missing_names, args = (codename_dict,))\n",
    "print(type(updated_mjtheme_namecode))\n",
    "updated_mjtheme_namecode.head()"
   ]
  },
  {
   "cell_type": "code",
   "execution_count": 31,
   "metadata": {
    "collapsed": false
   },
   "outputs": [],
   "source": [
    "json_df2 = json_df.copy()\n",
    "#json_df2.info()"
   ]
  },
  {
   "cell_type": "markdown",
   "metadata": {},
   "source": [
    "Update the mjtheme_namecode series with the corrected version (which has the missing name values filled in)."
   ]
  },
  {
   "cell_type": "code",
   "execution_count": 32,
   "metadata": {
    "collapsed": true
   },
   "outputs": [],
   "source": [
    "# try to use asserts"
   ]
  },
  {
   "cell_type": "code",
   "execution_count": 17,
   "metadata": {
    "collapsed": false
   },
   "outputs": [],
   "source": [
    "json_df2['mjtheme_namecode'] = updated_mjtheme_namecode"
   ]
  },
  {
   "cell_type": "code",
   "execution_count": 18,
   "metadata": {
    "collapsed": false
   },
   "outputs": [
    {
     "data": {
      "text/plain": [
       "0"
      ]
     },
     "execution_count": 18,
     "metadata": {},
     "output_type": "execute_result"
    }
   ],
   "source": [
    "sum(json_df2['countryname'] != json_df['countryname'])"
   ]
  },
  {
   "cell_type": "code",
   "execution_count": 19,
   "metadata": {
    "collapsed": false
   },
   "outputs": [
    {
     "data": {
      "text/plain": [
       "122"
      ]
     },
     "execution_count": 19,
     "metadata": {},
     "output_type": "execute_result"
    }
   ],
   "source": [
    "# checking the the updated version is not identical to the original version because of updates\n",
    "sum(json_df2['mjtheme_namecode'] != json_df['mjtheme_namecode'])"
   ]
  },
  {
   "cell_type": "markdown",
   "metadata": {},
   "source": [
    "The dataframe json_df2 now contains an updated 'mjtheme_namecode' column with missing 'name' values filled in."
   ]
  },
  {
   "cell_type": "code",
   "execution_count": 20,
   "metadata": {
    "collapsed": false
   },
   "outputs": [
    {
     "name": "stdout",
     "output_type": "stream",
     "text": [
      "122\n",
      "example missing:\n",
      "[{u'code': u'6', u'name': u'Social protection and risk management'}, {u'code': u'7', u'name': u''}]\n",
      "example corrected:\n",
      "[{u'code': u'6', u'name': u'Social protection and risk management'}, {'code': u'7', 'name': u'Social dev/gender/inclusion'}]\n"
     ]
    }
   ],
   "source": [
    "inds_corrected = json_df2[json_df2['mjtheme_namecode'] != json_df['mjtheme_namecode']].index.tolist()\n",
    "print(len(inds_corrected))\n",
    "print(\"example missing:\")\n",
    "print(json_df.iloc[inds_corrected[10]]['mjtheme_namecode'])\n",
    "print(\"example corrected:\")\n",
    "print(json_df2.iloc[inds_corrected[10]]['mjtheme_namecode'])"
   ]
  },
  {
   "cell_type": "code",
   "execution_count": null,
   "metadata": {
    "collapsed": true
   },
   "outputs": [],
   "source": []
  }
 ],
 "metadata": {
  "anaconda-cloud": {},
  "kernelspec": {
   "display_name": "Python [default]",
   "language": "python",
   "name": "python2"
  },
  "language_info": {
   "codemirror_mode": {
    "name": "ipython",
    "version": 2
   },
   "file_extension": ".py",
   "mimetype": "text/x-python",
   "name": "python",
   "nbconvert_exporter": "python",
   "pygments_lexer": "ipython2",
   "version": "2.7.12"
  }
 },
 "nbformat": 4,
 "nbformat_minor": 0
}
